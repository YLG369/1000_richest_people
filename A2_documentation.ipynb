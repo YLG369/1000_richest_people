{
 "cells": [
  {
   "attachments": {},
   "cell_type": "markdown",
   "metadata": {},
   "source": [
    "# __Documentation__"
   ]
  },
  {
   "attachments": {},
   "cell_type": "markdown",
   "metadata": {},
   "source": [
    "##### The data I am using is the top 1000 of the most money made from a single industry around the world.\n",
    "##### Aim - Find the most lucrative industries and their respective countries.\n",
    "##### Source - https://www.kaggle.com/datasets/waqi786/1000-richest-people-in-the-world, my data is publicly available.\n",
    "##### --------- I also made a excel and csv file copy of all the data.\n",
    "##### I will access my data via a csv file.\n",
    "# ________________________________________________________________________________________________________________________________________________________"
   ]
  },
  {
   "attachments": {},
   "cell_type": "markdown",
   "metadata": {},
   "source": [
    "## Functional Requirements\n",
    "##### - Data loading and data cleaning: Data must be a csv file. Data must be ready for analysis and be free of any unnecessary information.\n",
    "##### _Actor: User_\n",
    "##### _Goal: To load a dataset into the system._\n",
    "##### _Preconditions: User has a dataset file ready._\n",
    "##### _Main Flow: User places the dataset for reading into the correct folder. System validates the file format. System loads the dataset and displays the information in a dataframe._\n",
    "##### _Postconditions: Dataset is loaded and ready for analysis._\n",
    "### |\n",
    "##### - Data analysis: Must be correctly analysed.\n",
    "##### _Actor: User_\n",
    "##### _Goal: To correctly analyse data._\n",
    "##### _Preconditions: User has a dataframe ready to use._\n",
    "##### _Main Flow: User places the dataframe for reading into the correct folder. System validates the file format. System loads the dataframe and withdraws all the useful data._\n",
    "##### _Postconditions: Analysis is completed and ready for visualisation._\n",
    "### |\n",
    "##### - Data visualisation: Data must be visually pleasing and easy to interpret.\n",
    "##### _Actor: User_\n",
    "##### _Goal: To load the data into a suitable graph to display the information._\n",
    "##### _Preconditions: User has an analysed dataframe file ready._\n",
    "##### _Main Flow: User places the dataframe for reading into the correct folder. System validates the file format. System loads the data and displays the information on a graph using pandas._\n",
    "##### _Postconditions: Information is displayed as a graph and ready to be reported._\n",
    "### |\n",
    "##### - Data reporting: The report must satisfy the aim (Finding the most lucrative industries)\n",
    "##### _Actor: User_\n",
    "##### _Goal: To report the final dataset as a csv file._\n",
    "##### _Preconditions: User has a graph with useful information._\n",
    "##### _Main Flow: User places the dataframe for reading into the correct folder. System validates the file format. System loads the dataframe as a csv file._\n",
    "##### _Postconditions: Data is saved._\n",
    "# ________________________________________________________________________________________________________________________________________________________"
   ]
  },
  {
   "attachments": {},
   "cell_type": "markdown",
   "metadata": {},
   "source": [
    "## Non-functional Requirements\n",
    "##### Useability: _The user interface must be clear enough for the user to understand and account for any errors the user makes (e.g entering a number that is not an option)_\n",
    "##### Reliability: _My program must state the source of the data (kaggle.com) and must be constantly updated to provide the most accurate data so it is up to date._\n",
    "##### Security: _Users must be authorised to use the data. Program will ask for a password to add a layer of security. Password: 'ApAsSwOrD'_\n",
    "# ________________________________________________________________________________________________________________________________________________________"
   ]
  },
  {
   "cell_type": "markdown",
   "metadata": {},
   "source": [
    "## Research of Chosen Issue\n",
    "\n",
    "##### Purpose: _The purpose of my data/information is to find the most lucrative industries and their respective countries._\n",
    "\n",
    "##### Missing Data: _It was necessary to carry out this analysis because the information providing the most lucrative industries was missing._\n",
    "\n",
    "##### Stakeholders/Use : _My information may be benificial to investors hoping to invest money in rising and successful industries and can also be useful for entrepreuners looking for jobs with a high income._\n",
    "# ________________________________________________________________________________________________________________________________________________________"
   ]
  },
  {
   "cell_type": "markdown",
   "metadata": {},
   "source": [
    "## Privacy and Security\n",
    "##### The source (Kaggle) needs to protect all the names of the people, numerical statistics (net worth), and the names of the buisnesses.\n",
    "##### As a user of the data, I need to acknowledge this data was from Kaggle and use the least amount of data neccessary. Some of this data is identifiable such as the names of people and companies, but the statistics aren't.\n",
    "##### If I were to push a public application, I would ask for a username and password, acknowledge the source of the data and use the least amount of data required.\n",
    "### __Definitions__\n",
    "##### user authentication: _verifying that someone who is attempting to access services/applications is who they claim to be_\n",
    "##### password hashing: _turns your password into a string of letters and/or numbers using encryption_\n",
    "##### encryption: _a way to scramble data so that only authorized parties can unscramble it_\n",
    "# ________________________________________________________________________________________________________________________________________________________"
   ]
  },
  {
   "cell_type": "markdown",
   "metadata": {},
   "source": [
    "## My Data Dictionary\n",
    "| Field | Datatype | Format for Display | Description | Example | Validation |\n",
    "|:--------:|:--------:|:--------:|:--------:|:--------:|:--------:|\n",
    "| country | object | XX…XX | Name of the country of lucrative industry | USA | Can be any amount of characters but must not include numbers. |\n",
    "| industry | object | XX…XX | Name of the industry | Technology | Can be any amount of characters but must not include numbers. |\n",
    "| revenue |  float64 | NNN.NN | Total revenue (in billions) | 120.44 | Must be a decimal number to 2 decimal places. |\n",
    "# ________________________________________________________________________________________________________________________________________________________"
   ]
  }
 ],
 "metadata": {
  "kernelspec": {
   "display_name": "Python 3",
   "language": "python",
   "name": "python3"
  },
  "language_info": {
   "codemirror_mode": {
    "name": "ipython",
    "version": 3
   },
   "file_extension": ".py",
   "mimetype": "text/x-python",
   "name": "python",
   "nbconvert_exporter": "python",
   "pygments_lexer": "ipython3",
   "version": "3.9.13"
  },
  "orig_nbformat": 4
 },
 "nbformat": 4,
 "nbformat_minor": 2
}
