{
 "cells": [
  {
   "attachments": {},
   "cell_type": "markdown",
   "metadata": {},
   "source": [
    "# __Documentation__"
   ]
  },
  {
   "attachments": {},
   "cell_type": "markdown",
   "metadata": {},
   "source": [
    "##### The data I am using is the top 1000 of the most money made from a single industry around the world.\n",
    "##### Aim - Find the top 10 most lucrative industries.\n",
    "##### Source - https://www.kaggle.com/datasets/waqi786/1000-richest-people-in-the-world, my data is publicly available.\n",
    "##### --------- I also made a excel and csv file copy of all the data.\n",
    "##### I will access my data via a csv file."
   ]
  },
  {
   "attachments": {},
   "cell_type": "markdown",
   "metadata": {},
   "source": [
    "## Functional Requirements\n",
    "##### - Data loading and data cleaning: Data must be a csv file. Data must be ready for analysis and be free of any unnecessary information.\n",
    "##### _Actor: User_\n",
    "##### _Goal: To load a dataset into the system._\n",
    "##### _Preconditions: User has a dataset file ready._\n",
    "##### _Main Flow: User places the dataset for reading into the correct folder. System validates the file format. System loads the dataset and displays the information in a dataframe._\n",
    "##### _Postconditions: Dataset is loaded and ready for analysis._\n",
    "### |\n",
    "##### - Data analysis: Must be correctly analysed.\n",
    "##### _Actor: User_\n",
    "##### _Goal: To correctly analyse data._\n",
    "##### _Preconditions: User has a dataframe ready to use._\n",
    "##### _Main Flow: User places the dataframe for reading into the correct folder. System validates the file format. System loads the dataframe and withdraws all the useful data._\n",
    "##### _Postconditions: Analysis is completed and ready for visualisation._\n",
    "### |\n",
    "##### - Data visualisation: Data must be visually pleasing and easy to interpret.\n",
    "##### _Actor: User_\n",
    "##### _Goal: To load the data into a suitable graph to display the information._\n",
    "##### _Preconditions: User has an analysed dataframe file ready._\n",
    "##### _Main Flow: User places the dataframe for reading into the correct folder. System validates the file format. System loads the data and displays the information on a graph using pandas._\n",
    "##### _Postconditions: Information is displayed as a graph and ready to be reported._\n",
    "### |\n",
    "##### - Data reporting: The report must satisfy the aim (Finding the top 10 most lucrative industries)\n",
    "##### _Actor: User_\n",
    "##### _Goal: To report the final dataset as a csv file._\n",
    "##### _Preconditions: User has a graph with useful information._\n",
    "##### _Main Flow: User places the dataframe for reading into the correct folder. System validates the file format. System loads the dataframe as a csv file._\n",
    "##### _Postconditions: Data is loaded and saved._"
   ]
  },
  {
   "attachments": {},
   "cell_type": "markdown",
   "metadata": {},
   "source": [
    "## Non-functional Requirements\n",
    "##### Useability: __\n",
    "##### Reliability: __\n",
    "##### Security: _Users must be authorised to use my data. My program will ask for a password to add a layer of security. Password: 'ApAsSwOrD'_"
   ]
  }
 ],
 "metadata": {
  "language_info": {
   "name": "python"
  },
  "orig_nbformat": 4
 },
 "nbformat": 4,
 "nbformat_minor": 2
}
