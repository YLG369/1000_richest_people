{
 "cells": [
  {
   "attachments": {},
   "cell_type": "markdown",
   "metadata": {},
   "source": [
    "# __Documentation__"
   ]
  },
  {
   "attachments": {},
   "cell_type": "markdown",
   "metadata": {},
   "source": [
    "##### The data I am using is the top 1000 of the most money made from a single industry around the world.\n",
    "##### Aim - Find the top 10 most lucrative industries.\n",
    "##### Source - https://www.kaggle.com/datasets/waqi786/1000-richest-people-in-the-world, my data is publicly available.\n",
    "##### I will access my data via a csv file."
   ]
  },
  {
   "attachments": {},
   "cell_type": "markdown",
   "metadata": {},
   "source": [
    "## Functional Requirements\n",
    "##### - Data loading and data cleaning: Data must be a csv file. / Data must be ready for analysis and be free of any unnecessary information.\n",
    "##### _Actor: User_\n",
    "##### _Goal: To load a dataset into the system._\n",
    "##### _Preconditions: User has a dataset file ready._\n",
    "##### _Main Flow: User places the dataset for reading into the correct folder. System validates the file format. System loads the dataset and displays the information in a dataframe._\n",
    "##### _Postconditions: Dataset is loaded and ready for analysis._\n",
    "### |\n",
    "##### - Data analysis: Must be correctly analysed.\n",
    "##### _Actor: User_\n",
    "##### _Goal: To load a dataset into the system._\n",
    "##### _Preconditions: User has a dataset file ready._\n",
    "##### _Main Flow: User places the dataset for reading into the correct folder. System validates the file format. System loads the dataset and displays the information in a dataframe._\n",
    "##### _Postconditions: Dataset is loaded and ready for analysis._\n",
    "### |\n",
    "##### - Data visualisation: Data must be visually pleasing and easy to interpret.\n",
    "##### _Actor: User_\n",
    "##### _Goal: To load a dataset into the system._\n",
    "##### _Preconditions: User has a dataset file ready._\n",
    "##### _Main Flow: User places the dataset for reading into the correct folder. System validates the file format. System loads the dataset and displays the information in a dataframe._\n",
    "##### _Postconditions: Dataset is loaded and ready for analysis._\n",
    "### |\n",
    "##### - Data reporting: The report must satisfy the aim (Finding the top 10 most lucrative industries)\n",
    "##### _Actor: User_\n",
    "##### _Goal: To load a dataset into the system._\n",
    "##### _Preconditions: User has a dataset file ready._\n",
    "##### _Main Flow: User places the dataset for reading into the correct folder. System validates the file format. System loads the dataset and displays the information in a dataframe._\n",
    "##### _Postconditions: Dataset is loaded and ready for analysis._"
   ]
  }
 ],
 "metadata": {
  "language_info": {
   "name": "python"
  },
  "orig_nbformat": 4
 },
 "nbformat": 4,
 "nbformat_minor": 2
}
